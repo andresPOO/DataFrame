{
  "nbformat": 4,
  "nbformat_minor": 0,
  "metadata": {
    "colab": {
      "provenance": [],
      "authorship_tag": "ABX9TyOnHNbTfkHNOXRXO7t7nITD",
      "include_colab_link": true
    },
    "kernelspec": {
      "name": "python3",
      "display_name": "Python 3"
    },
    "language_info": {
      "name": "python"
    }
  },
  "cells": [
    {
      "cell_type": "markdown",
      "metadata": {
        "id": "view-in-github",
        "colab_type": "text"
      },
      "source": [
        "<a href=\"https://colab.research.google.com/github/andresPOO/DataFrame/blob/main/Funciones.ipynb\" target=\"_parent\"><img src=\"https://colab.research.google.com/assets/colab-badge.svg\" alt=\"Open In Colab\"/></a>"
      ]
    },
    {
      "cell_type": "markdown",
      "source": [
        "Calcular expresiones matemáticas"
      ],
      "metadata": {
        "id": "JYQQAE3O2hcM"
      }
    },
    {
      "cell_type": "code",
      "source": [
        "import math\n",
        "\n",
        "resultado=math.log(12 + math.sin(math.pi/2)) + math.sqrt(math.atan(2.56 + math.pi/8))\n",
        "resultado"
      ],
      "metadata": {
        "id": "7axc3ooy2dI1"
      },
      "execution_count": null,
      "outputs": []
    },
    {
      "cell_type": "markdown",
      "source": [
        "linspace: función que genera un conjunto de números x espaciados"
      ],
      "metadata": {
        "id": "HzG9h-Ok2_wE"
      }
    },
    {
      "cell_type": "code",
      "source": [
        "import numpy as np\n",
        "\n",
        "valores =np.linspace(0,100, 50)\n",
        "valores"
      ],
      "metadata": {
        "colab": {
          "base_uri": "https://localhost:8080/"
        },
        "id": "y-BxfiL33A6b",
        "outputId": "cd2079f6-6dff-4fc6-8141-879d5def9a8c"
      },
      "execution_count": 6,
      "outputs": [
        {
          "output_type": "execute_result",
          "data": {
            "text/plain": [
              "array([  0.        ,   2.04081633,   4.08163265,   6.12244898,\n",
              "         8.16326531,  10.20408163,  12.24489796,  14.28571429,\n",
              "        16.32653061,  18.36734694,  20.40816327,  22.44897959,\n",
              "        24.48979592,  26.53061224,  28.57142857,  30.6122449 ,\n",
              "        32.65306122,  34.69387755,  36.73469388,  38.7755102 ,\n",
              "        40.81632653,  42.85714286,  44.89795918,  46.93877551,\n",
              "        48.97959184,  51.02040816,  53.06122449,  55.10204082,\n",
              "        57.14285714,  59.18367347,  61.2244898 ,  63.26530612,\n",
              "        65.30612245,  67.34693878,  69.3877551 ,  71.42857143,\n",
              "        73.46938776,  75.51020408,  77.55102041,  79.59183673,\n",
              "        81.63265306,  83.67346939,  85.71428571,  87.75510204,\n",
              "        89.79591837,  91.83673469,  93.87755102,  95.91836735,\n",
              "        97.95918367, 100.        ])"
            ]
          },
          "metadata": {},
          "execution_count": 6
        }
      ]
    },
    {
      "cell_type": "code",
      "source": [
        "nuevos_valores= np.where(valores<=44.89795918)\n",
        "nuevos_valores"
      ],
      "metadata": {
        "colab": {
          "base_uri": "https://localhost:8080/"
        },
        "id": "Sg4PDj9Z4LQJ",
        "outputId": "556eb3e8-d765-46f4-8f51-e2c4efb75d2d"
      },
      "execution_count": 9,
      "outputs": [
        {
          "output_type": "execute_result",
          "data": {
            "text/plain": [
              "(array([ 0,  1,  2,  3,  4,  5,  6,  7,  8,  9, 10, 11, 12, 13, 14, 15, 16,\n",
              "        17, 18, 19, 20, 21]),)"
            ]
          },
          "metadata": {},
          "execution_count": 9
        }
      ]
    },
    {
      "cell_type": "code",
      "source": [
        "valor =valores[22]\n",
        "valor"
      ],
      "metadata": {
        "colab": {
          "base_uri": "https://localhost:8080/"
        },
        "id": "MnDjrEwm61O9",
        "outputId": "7525b773-5658-45d3-ce70-2b273349b91e"
      },
      "execution_count": 11,
      "outputs": [
        {
          "output_type": "execute_result",
          "data": {
            "text/plain": [
              "44.89795918367347"
            ]
          },
          "metadata": {},
          "execution_count": 11
        }
      ]
    },
    {
      "cell_type": "code",
      "source": [
        "valores_2=valores[[1,34,12]]\n",
        "valores_2"
      ],
      "metadata": {
        "colab": {
          "base_uri": "https://localhost:8080/"
        },
        "id": "SNZraJgQ7UG7",
        "outputId": "205a9664-af9b-4d7e-fb33-6a9bd3330c4e"
      },
      "execution_count": 13,
      "outputs": [
        {
          "output_type": "execute_result",
          "data": {
            "text/plain": [
              "array([ 2.04081633, 69.3877551 , 24.48979592])"
            ]
          },
          "metadata": {},
          "execution_count": 13
        }
      ]
    },
    {
      "cell_type": "markdown",
      "source": [
        "smoth de la curva= hace suave a la cuerva. Más valores"
      ],
      "metadata": {
        "id": "6f34Lr629Odj"
      }
    },
    {
      "cell_type": "code",
      "source": [
        "import numpy as pn\n",
        "\n",
        "X=np.linspace(0, 10, 100) #Arreglo de valores\n",
        "Y=np.log(X + np.sin(np.pi/2)) + np.sqrt(np.arctan((X/5)+np.pi/8))\n",
        "Y\n",
        "\n",
        "\n",
        "\n"
      ],
      "metadata": {
        "colab": {
          "base_uri": "https://localhost:8080/"
        },
        "id": "gkCwNei49Uoj",
        "outputId": "892d32dd-e114-4b92-f6e4-3a5bf234800f"
      },
      "execution_count": 22,
      "outputs": [
        {
          "output_type": "execute_result",
          "data": {
            "text/plain": [
              "array([0.61171618, 0.72199021, 0.82331108, 0.91707211, 1.00435755,\n",
              "       1.08602827, 1.16277966, 1.23518183, 1.30370831, 1.36875694,\n",
              "       1.4306654 , 1.4897229 , 1.54617918, 1.60025153, 1.65213023,\n",
              "       1.70198298, 1.7499584 , 1.79618884, 1.84079279, 1.88387677,\n",
              "       1.9255369 , 1.9658603 , 2.00492615, 2.04280672, 2.0795681 ,\n",
              "       2.11527095, 2.1499711 , 2.18372002, 2.21656532, 2.2485511 ,\n",
              "       2.27971832, 2.31010509, 2.33974693, 2.36867702, 2.39692636,\n",
              "       2.42452404, 2.4514973 , 2.47787178, 2.50367158, 2.52891939,\n",
              "       2.55363664, 2.57784354, 2.6015592 , 2.62480173, 2.64758824,\n",
              "       2.66993499, 2.6918574 , 2.71337012, 2.73448707, 2.7552215 ,\n",
              "       2.77558604, 2.79559271, 2.81525299, 2.83457781, 2.85357765,\n",
              "       2.87226248, 2.89064187, 2.90872495, 2.9265205 , 2.94403688,\n",
              "       2.96128215, 2.97826402, 2.99498988, 3.01146685, 3.02770174,\n",
              "       3.04370112, 3.0594713 , 3.07501834, 3.09034808, 3.10546614,\n",
              "       3.12037794, 3.13508871, 3.14960346, 3.16392705, 3.17806416,\n",
              "       3.19201932, 3.20579688, 3.21940106, 3.23283592, 3.24610541,\n",
              "       3.25921332, 3.27216335, 3.28495904, 3.29760385, 3.31010111,\n",
              "       3.32245405, 3.3346658 , 3.3467394 , 3.35867778, 3.3704838 ,\n",
              "       3.38216022, 3.39370972, 3.4051349 , 3.4164383 , 3.42762236,\n",
              "       3.43868946, 3.44964193, 3.460482  , 3.47121186, 3.48183364])"
            ]
          },
          "metadata": {},
          "execution_count": 22
        }
      ]
    },
    {
      "cell_type": "code",
      "source": [
        "import matplotlib. pyplot as plt\n",
        "\n",
        "\n",
        "myGraph = plt.figure(figsize=(10, 5))\n",
        "plt.plot(X, Y)\n",
        "\n",
        "# Agregar nombres a los ejes\n",
        "plt.xlabel('Eje X')\n",
        "plt.ylabel('Eje Y')\n",
        "\n",
        "# Establecer límites para los ejes x e y\n",
        "plt.xlim(0, 10)\n",
        "plt.ylim(0, 4)\n",
        "\n",
        "plt.grid(True)\n",
        "\n",
        "\n",
        "plt.title('Gráfico de Y en función de X')\n",
        "\n",
        "plt.legend()\n",
        "\n",
        "\n",
        "plt.show()\n"
      ],
      "metadata": {
        "colab": {
          "base_uri": "https://localhost:8080/",
          "height": 524
        },
        "id": "BeJp8RWaBUfn",
        "outputId": "3cb5838d-06c4-4023-b532-0a6066d214e1"
      },
      "execution_count": 28,
      "outputs": [
        {
          "output_type": "stream",
          "name": "stderr",
          "text": [
            "WARNING:matplotlib.legend:No artists with labels found to put in legend.  Note that artists whose label start with an underscore are ignored when legend() is called with no argument.\n"
          ]
        },
        {
          "output_type": "display_data",
          "data": {
            "text/plain": [
              "<Figure size 1000x500 with 1 Axes>"
            ],
            "image/png": "[encoded data removed]"
          },
          "metadata": {}
        }
      ]
    }
  ]
}